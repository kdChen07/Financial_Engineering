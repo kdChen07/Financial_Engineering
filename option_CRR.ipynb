{
 "cells": [
  {
   "cell_type": "code",
   "execution_count": 1,
   "metadata": {
    "ExecuteTime": {
     "end_time": "2019-04-10T11:55:35.014158Z",
     "start_time": "2019-04-10T11:55:32.175391Z"
    },
    "collapsed": true
   },
   "outputs": [],
   "source": [
    "import math\n",
    "import numpy as np\n",
    "import matplotlib as mpl\n",
    "import matplotlib.pyplot as plt\n",
    "from scipy.integrate import quad\n",
    "mpl.rcParams['font.family'] = 'serif'"
   ]
  },
  {
   "cell_type": "code",
   "execution_count": 2,
   "metadata": {
    "ExecuteTime": {
     "end_time": "2019-04-10T11:55:35.063049Z",
     "start_time": "2019-04-10T11:55:35.017629Z"
    },
    "collapsed": true
   },
   "outputs": [],
   "source": [
    "#BSM模型定价\n",
    "def dN(x):\n",
    "    ''' Probability density function of standard normal random variable x. '''\n",
    "    return math.exp(-0.5 * x ** 2) / math.sqrt(2 * math.pi)\n",
    "\n",
    "def N(d):\n",
    "    ''' Cumulative density function of standard normal random variable x. '''\n",
    "    return quad(lambda x: dN(x), -20, d, limit=50)[0]\n",
    "\n",
    "def d1f(St, K, t, T, r, sigma):\n",
    "    ''' Black-Scholes-Merton d1 function.\n",
    "        Parameters see e.g. BSM_call_value function. '''\n",
    "    d1 = (math.log(St / K) + (r + 0.5 * sigma ** 2)\n",
    "          * (T - t)) / (sigma * math.sqrt(T - t))\n",
    "    return d1\n",
    "\n",
    "#\n",
    "# Valuation Functions\n",
    "#\n",
    "def BSM_call_value(St, K, t, T, r, sigma):\n",
    "    ''' Calculates Black-Scholes-Merton European call option value.\n",
    "    Parameters\n",
    "    ==========\n",
    "    St : float\n",
    "        stock/index level at time t\n",
    "    K : float\n",
    "        strike price\n",
    "    t : float\n",
    "        valuation date\n",
    "    T : float\n",
    "        date of maturity/time-to-maturity if t = 0; T > t\n",
    "    r : float\n",
    "        constant, risk-less short rate\n",
    "    sigma : float\n",
    "        volatility\n",
    "    Returns\n",
    "    =======\n",
    "    call_value : float\n",
    "        European call present value at t\n",
    "    '''\n",
    "    d1 = d1f(St, K, t, T, r, sigma)\n",
    "    d2 = d1 - sigma * math.sqrt(T - t)\n",
    "    call_value = St * N(d1) - math.exp(-r * (T - t)) * K * N(d2)\n",
    "    return call_value\n",
    "\n",
    "def BSM_put_value(St, K, t, T, r, sigma):\n",
    "    ''' Calculates Black-Scholes-Merton European put option value.\n",
    "    Parameters\n",
    "    ==========\n",
    "    St : float\n",
    "        stock/index level at time t\n",
    "    K : float\n",
    "        strike price\n",
    "    t : float\n",
    "        valuation date\n",
    "    T : float\n",
    "        date of maturity/time-to-maturity if t = 0; T > t\n",
    "    r : float\n",
    "        constant, risk-less short rate\n",
    "    sigma : float\n",
    "        volatility\n",
    "    Returns\n",
    "    =======\n",
    "    put_value : float\n",
    "        European put present value at t\n",
    "    '''\n",
    "    put_value = BSM_call_value(St, K, t, T, r, sigma) \\\n",
    "        - St + math.exp(-r * (T - t)) * K\n",
    "    return put_value"
   ]
  },
  {
   "cell_type": "code",
   "execution_count": 3,
   "metadata": {
    "ExecuteTime": {
     "end_time": "2019-04-10T11:55:35.112902Z",
     "start_time": "2019-04-10T11:55:35.065288Z"
    },
    "collapsed": true
   },
   "outputs": [],
   "source": [
    "# CRR欧式期权\n",
    "def CRR_european_option_value(S0, K, T, r, sigma, otype, M=4):\n",
    "    ''' Cox-Ross-Rubinstein European option valuation.\n",
    "    Parameters\n",
    "    ==========\n",
    "    S0 : float\n",
    "        stock/index level at time 0\n",
    "    K : float\n",
    "        strike price\n",
    "    T : float\n",
    "        date of maturity\n",
    "    r : float\n",
    "        constant, risk-less short rate\n",
    "    sigma : float\n",
    "        volatility\n",
    "    otype : string\n",
    "        either 'call' or 'put'\n",
    "    M : int\n",
    "        number of time intervals\n",
    "    '''\n",
    "    # 生成二叉树\n",
    "    dt = T / M  # length of time interval\n",
    "    df = math.exp(-r * dt)  # discount per interval\n",
    "\n",
    "    # 计算udp\n",
    "    u = math.exp(sigma * math.sqrt(dt))  # up movement\n",
    "    d = 1 / u  # down movement\n",
    "    q = (math.exp(r * dt) - d) / (u - d)  # martingale branch probability\n",
    "\n",
    "    # 初始化幂矩阵\n",
    "    mu = np.arange(M + 1)\n",
    "    mu = np.resize(mu, (M + 1, M + 1))\n",
    "    #print(mu)\n",
    "    md = np.transpose(mu)\n",
    "    #print(md)\n",
    "    #print(mu - md)\n",
    "    mu = u ** (mu - md)\n",
    "    md = d ** md\n",
    "    #print(mu)\n",
    "    #print(md)\n",
    "    \n",
    "    #得到各节点的股票价格\n",
    "    S = S0 * mu * md\n",
    "\n",
    "    # 得到叶子结点的期权价值\n",
    "    if otype == 'call':\n",
    "        V = np.maximum(S - K, 0)  # inner values for European call option\n",
    "    else:\n",
    "        V = np.maximum(K - S, 0)  # inner values for European put option\n",
    "\n",
    "    #逐步向前加权平均并折现，得到期初期权价值\n",
    "    for z in range(0, M):  # backwards iteration\n",
    "        #逐列更新期权价值，相当于二叉树中的逐层向前折算\n",
    "        V[0:M - z, M - z - 1] = (q * V[0:M - z, M - z] +\n",
    "                         (1 - q) * V[1:M - z + 1, M - z]) * df\n",
    "    return V[0, 0]"
   ]
  },
  {
   "cell_type": "code",
   "execution_count": 4,
   "metadata": {
    "ExecuteTime": {
     "end_time": "2019-04-10T11:55:35.183870Z",
     "start_time": "2019-04-10T11:55:35.115878Z"
    },
    "collapsed": true
   },
   "outputs": [],
   "source": [
    "# CRR美式期权\n",
    "def CRR_american_option_value(S0, K, T, r, sigma, otype, M=4):\n",
    "    # 一.生成二叉树\n",
    "    dt = T / M  # length of time interval\n",
    "    df = math.exp(-r * dt)  # discount per interval\n",
    "    inf = math.exp(r * dt)  # discount per interval\n",
    "\n",
    "    # 计算udp\n",
    "    u = math.exp(sigma * math.sqrt(dt))  # up movement\n",
    "    d = 1 / u  # down movement\n",
    "    q = (math.exp(r * dt) - d) / (u - d)  # martingale branch probability\n",
    "    \n",
    "    # 初始化幂矩阵\n",
    "    mu = np.arange(M + 1)\n",
    "    mu = np.resize(mu, (M + 1, M + 1))\n",
    "    md = np.transpose(mu)\n",
    "    \n",
    "    # 计算个节点单向变动时的股票价格\n",
    "    mus = u ** (mu - md)\n",
    "    mds = d ** md\n",
    "    \n",
    "    # 得到各节点的股票价格\n",
    "    S = S0 * mus * mds \n",
    "        \n",
    "    # 二.计算每个节点股票的预期价格\n",
    "    mes = S0 * inf ** mu\n",
    "\n",
    "    # 三.得到叶子结点的期权价值\n",
    "    if otype == 'call':\n",
    "        V = np.maximum(S - K, 0)     \n",
    "        #计算每个节点提前行权的收益\n",
    "        oreturn = mes - K\n",
    "    else:\n",
    "        V = np.maximum(K - S, 0)       \n",
    "        #计算每个节点提前行权的收益\n",
    "        oreturn = K - mes\n",
    "\n",
    "    # 四.逐步向前加权平均折现和提前行权的收益比较，得到期初期权价值\n",
    "    for z in range(0, M):  # backwards iteration\n",
    "        #计算后期折现的后期价格\n",
    "        ovalue = (q * V[0:M - z, M - z] +\n",
    "                         (1 - q) * V[1:M - z + 1, M - z]) * df\n",
    "        #逐列更新期权价值，相当于二叉树中的逐层向前折算\n",
    "        #期权价格取后期折现和提前行权获得收益的最大值\n",
    "        V[0:M - z, M - z - 1] = np.maximum(ovalue, oreturn[0:M - z, M - z - 1])\n",
    "        \n",
    "    return V[0, 0]"
   ]
  },
  {
   "cell_type": "code",
   "execution_count": 5,
   "metadata": {
    "ExecuteTime": {
     "end_time": "2019-04-10T11:55:35.747634Z",
     "start_time": "2019-04-10T11:55:35.741195Z"
    },
    "collapsed": true
   },
   "outputs": [],
   "source": [
    "# 输入参数\n",
    "S0 = 100.0  # index level\n",
    "K = 100.0  # option strike\n",
    "T = 1.0  # maturity date\n",
    "r = 0.05  # risk-less short rate\n",
    "sigma = 0.2  # volatility"
   ]
  },
  {
   "cell_type": "code",
   "execution_count": 6,
   "metadata": {
    "ExecuteTime": {
     "end_time": "2019-04-10T11:55:36.536706Z",
     "start_time": "2019-04-10T11:55:36.511451Z"
    }
   },
   "outputs": [
    {
     "name": "stdout",
     "output_type": "stream",
     "text": [
      "12.786487798399586\n",
      "10.430611662249113\n"
     ]
    }
   ],
   "source": [
    "mmin=2\n",
    "mmax=200\n",
    "step_size=1\n",
    "print(CRR_american_option_value(S0, K, T, r, sigma, 'call', 100))\n",
    "print(CRR_european_option_value(S0, K, T, r, sigma, 'call', 100))"
   ]
  },
  {
   "cell_type": "code",
   "execution_count": 9,
   "metadata": {
    "ExecuteTime": {
     "end_time": "2019-04-10T11:59:19.314868Z",
     "start_time": "2019-04-10T11:59:18.851152Z"
    }
   },
   "outputs": [
    {
     "data": {
      "image/png": "[encoded data removed]",
      "text/plain": [
       "<Figure size 648x360 with 1 Axes>"
      ]
     },
     "metadata": {},
     "output_type": "display_data"
    }
   ],
   "source": [
    "BSM_benchmark = BSM_call_value(S0, K, 0, T, r, sigma)\n",
    "m = range(mmin, mmax, step_size)\n",
    "CRR_values = [CRR_european_option_value(S0, K, T, r, sigma, 'call', M) for M in m]\n",
    "plt.figure(figsize=(9, 5))\n",
    "plt.plot(m, CRR_values, label='CRR')\n",
    "plt.axhline(BSM_benchmark, color='r', ls='dashed', lw=1.5,\n",
    "            label='BSM')\n",
    "plt.xlabel('Steps')\n",
    "plt.ylabel('European call option value')\n",
    "plt.legend(loc=4)\n",
    "plt.xlim(0, mmax)\n",
    "plt.show()"
   ]
  },
  {
   "cell_type": "code",
   "execution_count": null,
   "metadata": {
    "collapsed": true
   },
   "outputs": [],
   "source": []
  }
 ],
 "metadata": {
  "kernelspec": {
   "display_name": "Python 3",
   "language": "python",
   "name": "python3"
  },
  "language_info": {
   "codemirror_mode": {
    "name": "ipython",
    "version": 3
   },
   "file_extension": ".py",
   "mimetype": "text/x-python",
   "name": "python",
   "nbconvert_exporter": "python",
   "pygments_lexer": "ipython3",
   "version": "3.6.2"
  }
 },
 "nbformat": 4,
 "nbformat_minor": 2
}
